{
 "cells": [
  {
   "cell_type": "code",
   "execution_count": null,
   "metadata": {},
   "outputs": [],
   "source": [
    "# We can reverse elements in a list in a few ways in Python. \n",
    "# Reversing elements should not be confused with sorting in a reverse way."
   ]
  },
  {
   "cell_type": "code",
   "execution_count": 1,
   "metadata": {},
   "outputs": [],
   "source": [
    "a1 = [\"bear\", \"lion\", \"tiger\", \"eagle\"]\n",
    "a2 = [\"bear\", \"lion\", \"tiger\", \"eagle\"]\n",
    "a3 = [\"bear\", \"lion\", \"tiger\", \"eagle\"]"
   ]
  },
  {
   "cell_type": "code",
   "execution_count": null,
   "metadata": {},
   "outputs": [],
   "source": [
    "# The first way is to use the reverse() method."
   ]
  },
  {
   "cell_type": "code",
   "execution_count": 2,
   "metadata": {},
   "outputs": [
    {
     "name": "stdout",
     "output_type": "stream",
     "text": [
      "['eagle', 'tiger', 'lion', 'bear']\n"
     ]
    }
   ],
   "source": [
    "a1.reverse()\n",
    "print(a1)"
   ]
  },
  {
   "cell_type": "markdown",
   "metadata": {},
   "source": [
    "---"
   ]
  },
  {
   "cell_type": "code",
   "execution_count": 3,
   "metadata": {},
   "outputs": [],
   "source": [
    "# The reversed() function returns a reverse iterator. \n",
    "# We use the iterator in a for loop and create a new reversed list."
   ]
  },
  {
   "cell_type": "code",
   "execution_count": 5,
   "metadata": {},
   "outputs": [
    {
     "name": "stdout",
     "output_type": "stream",
     "text": [
      "['eagle']\n",
      "['eagle', 'tiger']\n",
      "['eagle', 'tiger', 'lion']\n",
      "['eagle', 'tiger', 'lion', 'bear']\n"
     ]
    }
   ],
   "source": [
    "rev_list = reversed(a2)\n",
    "r = list()\n",
    "\n",
    "for e in rev_list:\n",
    "    r.append(e)\n",
    "    print(r)"
   ]
  },
  {
   "cell_type": "markdown",
   "metadata": {},
   "source": [
    "---"
   ]
  },
  {
   "cell_type": "code",
   "execution_count": 7,
   "metadata": {},
   "outputs": [],
   "source": [
    "# The third way is to reverse the list using the slice syntax, \n",
    "# where the step parameter is set to -1."
   ]
  },
  {
   "cell_type": "code",
   "execution_count": 8,
   "metadata": {},
   "outputs": [
    {
     "data": {
      "text/plain": [
       "['eagle', 'tiger', 'lion', 'bear']"
      ]
     },
     "execution_count": 8,
     "metadata": {},
     "output_type": "execute_result"
    }
   ],
   "source": [
    "a3[::-1]"
   ]
  }
 ],
 "metadata": {
  "kernelspec": {
   "display_name": "Python 3",
   "language": "python",
   "name": "python3"
  },
  "language_info": {
   "codemirror_mode": {
    "name": "ipython",
    "version": 3
   },
   "file_extension": ".py",
   "mimetype": "text/x-python",
   "name": "python",
   "nbconvert_exporter": "python",
   "pygments_lexer": "ipython3",
   "version": "3.7.7"
  }
 },
 "nbformat": 4,
 "nbformat_minor": 4
}
